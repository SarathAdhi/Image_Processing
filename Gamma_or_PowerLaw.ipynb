{
 "cells": [
  {
   "cell_type": "code",
   "execution_count": 10,
   "metadata": {},
   "outputs": [],
   "source": [
    "import cv2\n",
    "import numpy as np\n",
    "\n",
    "# Open the image.\n",
    "img = cv2.imread('images/tree.png')\n",
    "\n",
    "for gamma in [0.1, 0.5, 0.8, 1.2, 1.6, 2.1]:\n",
    "\t\n",
    "\t# gamma correction = s = c*r^γ .\n",
    "\tgamma_correction = np.array(255*(img / 255) ** gamma)\n",
    "\n",
    "\t# Save gamma transformed images.\n",
    "\tcv2.imwrite('output/Gamma_Value'+str(gamma)+'.jpg', gamma_correction)\n"
   ]
  }
 ],
 "metadata": {
  "interpreter": {
   "hash": "5ed50840bf34797499be3ac10a8e1502e555ac743d29bb0aa52e8bab1750b474"
  },
  "kernelspec": {
   "display_name": "Python 3.9.9 64-bit",
   "language": "python",
   "name": "python3"
  },
  "language_info": {
   "codemirror_mode": {
    "name": "ipython",
    "version": 3
   },
   "file_extension": ".py",
   "mimetype": "text/x-python",
   "name": "python",
   "nbconvert_exporter": "python",
   "pygments_lexer": "ipython3",
   "version": "3.9.9"
  },
  "orig_nbformat": 4
 },
 "nbformat": 4,
 "nbformat_minor": 2
}
