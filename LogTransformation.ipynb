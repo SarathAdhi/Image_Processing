{
 "cells": [
  {
   "cell_type": "markdown",
   "metadata": {},
   "source": [
    "<h1 align='center'>Log transformation of an image using Python and OpenCV</h1>\n",
    "<p>When logarithmic transformation is applied onto a digital image, the darker intensity values are given brighter values thus making the details present in darker or gray areas of the image more visible to human eyes.<br>(or)<br>Logarithmic transformation of an image is one of the gray level image transformations. Log transformation of an image means replacing all pixel values, present in the image, with its logarithmic values. Log transformation is used for image enhancement as it expands dark pixels of the image as compared to higher pixel values.</p>"
   ]
  },
  {
   "cell_type": "code",
   "execution_count": 1,
   "metadata": {},
   "outputs": [],
   "source": [
    "import cv2\n",
    "import numpy as np"
   ]
  },
  {
   "cell_type": "code",
   "execution_count": 2,
   "metadata": {},
   "outputs": [],
   "source": [
    "# cv2.imread -> returns NumPy array representing the image with the shape (num_rows, num_cols, num_channels)\n",
    "img = cv2.imread('images/cat.png')"
   ]
  },
  {
   "cell_type": "code",
   "execution_count": 3,
   "metadata": {},
   "outputs": [],
   "source": [
    "# c is a scaling constant. c = 255 / (log (1 + max_input_pixel_value))\n",
    "# np.max finds the value of maximum element in that entire array (returning a scalar).\n",
    "c = 255/(np.log(1 + np.max(img)))"
   ]
  },
  {
   "cell_type": "code",
   "execution_count": 4,
   "metadata": {},
   "outputs": [],
   "source": [
    "# Log transformation formula  s = c*log(1 + r) where r is input pixel value, c = scaling constant and s = output pixel value\n",
    "s = c * np.log(1 + img)"
   ]
  },
  {
   "cell_type": "code",
   "execution_count": 5,
   "metadata": {},
   "outputs": [],
   "source": [
    "# Converts float to imt for ex: 226.4 -> 226\n",
    "transformed = np.array(s, dtype = np.uint8)"
   ]
  },
  {
   "cell_type": "code",
   "execution_count": 6,
   "metadata": {},
   "outputs": [
    {
     "data": {
      "text/plain": [
       "True"
      ]
     },
     "execution_count": 6,
     "metadata": {},
     "output_type": "execute_result"
    }
   ],
   "source": [
    "# Save the image as log_transformation.\n",
    "cv2.imwrite('log_transformation.jpg', transformed)"
   ]
  }
 ],
 "metadata": {
  "interpreter": {
   "hash": "5ed50840bf34797499be3ac10a8e1502e555ac743d29bb0aa52e8bab1750b474"
  },
  "kernelspec": {
   "display_name": "Python 3.9.9 64-bit",
   "language": "python",
   "name": "python3"
  },
  "language_info": {
   "codemirror_mode": {
    "name": "ipython",
    "version": 3
   },
   "file_extension": ".py",
   "mimetype": "text/x-python",
   "name": "python",
   "nbconvert_exporter": "python",
   "pygments_lexer": "ipython3",
   "version": "3.9.9"
  },
  "orig_nbformat": 4
 },
 "nbformat": 4,
 "nbformat_minor": 2
}
